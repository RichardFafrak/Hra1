{
  "nbformat": 4,
  "nbformat_minor": 0,
  "metadata": {
    "colab": {
      "provenance": [],
      "authorship_tag": "ABX9TyOGri4TtRvkZOVwzM8RrW8j",
      "include_colab_link": true
    },
    "kernelspec": {
      "name": "python3",
      "display_name": "Python 3"
    },
    "language_info": {
      "name": "python"
    }
  },
  "cells": [
    {
      "cell_type": "markdown",
      "metadata": {
        "id": "view-in-github",
        "colab_type": "text"
      },
      "source": [
        "<a href=\"https://colab.research.google.com/github/RichardFafrak/Hra1/blob/main/pribehova_hra.ipynb\" target=\"_parent\"><img src=\"https://colab.research.google.com/assets/colab-badge.svg\" alt=\"Open In Colab\"/></a>"
      ]
    },
    {
      "cell_type": "markdown",
      "source": [
        "# Pribeh hry\n",
        "Príbeh s dvomi možnosťami na konci. Po výbere sa vytvorí ďaľšia časť príbehu. Vždy je len jedna možnosť správna.\n",
        "\n",
        "**Postup**\n",
        "1. Napiš príbeh\n",
        "2. Zvol si kade chceš isť\n"
      ],
      "metadata": {
        "id": "iiIyPQrNAGkG"
      }
    },
    {
      "cell_type": "code",
      "source": [
        "# prompt: Naprogramuj mi Príbeh s dvomi možnosťami na konci. Po výbere sa vytvorí ďaľšia časť príbehu. Vždy je len jedna možnosť správna.\n",
        "\n",
        "print(\"Pred tebou stojí stará, zchátralá brána vedúca do temného lesa. Cítiš chlad, ktorý z neho sála.\")\n",
        "print(\"Máš dve možnosti:\")\n",
        "print(\"1. Odvážne vstúpiť do lesa.\")\n",
        "print(\"2. Otočiť sa a vrátiť sa domov.\")\n",
        "\n",
        "vyber = input(\"Zadaj číslo svojej voľby (1 alebo 2): \")\n",
        "\n",
        "if vyber == \"1\":\n",
        "  print(\"\\nOdhodlane si prekročil prah brány. Stromov je tu toľko, že sotva vidíš oblohu.\")\n",
        "  print(\"Po chvíli kráčania po úzkej cestičke prichádzaš k rázcestiu.\")\n",
        "  print(\"Jedna cesta vedie hlbšie do temnoty, druhá sa zdá byť o niečo svetlejšia a počuješ z nej šum vody.\")\n",
        "  print(\"Máš opäť dve možnosti:\")\n",
        "  print(\"1. Vydať sa temnou cestou.\")\n",
        "  print(\"2. Vydať sa cestou k vode.\")\n",
        "\n",
        "  vyber2 = input(\"Zadaj číslo svojej voľby (1 alebo 2): \")\n",
        "\n",
        "  if vyber2 == \"2\":\n",
        "    print(\"\\nVybral si si cestu k vode. Po krátkej chôdzi prichádzaš k číremu potoku.\")\n",
        "    print(\"Pozeráš sa do vody a vidíš, že na dne sa niečo leskne.\")\n",
        "    print(\"Je to starý, mosadzný kľúč.\")\n",
        "    print(\"Gratulujem! Našiel si kľúč k svojmu ďalšiemu dobrodružstvu!\")\n",
        "  else:\n",
        "    print(\"\\nVybral si si temnú cestu. Po chvíli sa stratíš a nedokážeš nájsť cestu späť.\")\n",
        "    print(\"Les ťa pohltí a tvoje dobrodružstvo sa tu končí...\")\n",
        "\n",
        "elif vyber == \"2\":\n",
        "  print(\"\\nRozhodol si sa vrátiť domov. Aj keď si sa vyhol nebezpečenstvu, tvoje dobrodružstvo sa ani nezačalo.\")\n",
        "  print(\"Možno inokedy...\")\n",
        "else:\n",
        "  print(\"Neplatná voľba. Skús to znova.\")\n"
      ],
      "metadata": {
        "colab": {
          "base_uri": "https://localhost:8080/"
        },
        "id": "cRiQv47QBr1f",
        "outputId": "922c1824-a843-4c69-9574-b8d676357c01"
      },
      "execution_count": 1,
      "outputs": [
        {
          "output_type": "stream",
          "name": "stdout",
          "text": [
            "Pred tebou stojí stará, zchátralá brána vedúca do temného lesa. Cítiš chlad, ktorý z neho sála.\n",
            "Máš dve možnosti:\n",
            "1. Odvážne vstúpiť do lesa.\n",
            "2. Otočiť sa a vrátiť sa domov.\n",
            "Zadaj číslo svojej voľby (1 alebo 2): 1\n",
            "\n",
            "Odhodlane si prekročil prah brány. Stromov je tu toľko, že sotva vidíš oblohu.\n",
            "Po chvíli kráčania po úzkej cestičke prichádzaš k rázcestiu.\n",
            "Jedna cesta vedie hlbšie do temnoty, druhá sa zdá byť o niečo svetlejšia a počuješ z nej šum vody.\n",
            "Máš opäť dve možnosti:\n",
            "1. Vydať sa temnou cestou.\n",
            "2. Vydať sa cestou k vode.\n",
            "Zadaj číslo svojej voľby (1 alebo 2): 2\n",
            "\n",
            "Vybral si si cestu k vode. Po krátkej chôdzi prichádzaš k číremu potoku.\n",
            "Pozeráš sa do vody a vidíš, že na dne sa niečo leskne.\n",
            "Je to starý, mosadzný kľúč.\n",
            "Gratulujem! Našiel si kľúč k svojmu ďalšiemu dobrodružstvu!\n"
          ]
        }
      ]
    }
  ]
}